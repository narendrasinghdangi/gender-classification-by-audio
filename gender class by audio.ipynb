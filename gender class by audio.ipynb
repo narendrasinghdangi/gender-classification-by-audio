{
 "cells": [
  {
   "cell_type": "code",
   "execution_count": 1,
   "id": "89c99b5e-5ff1-45cf-aeb2-02ff031d0e99",
   "metadata": {},
   "outputs": [],
   "source": [
    "import pandas as pd\n",
    "import numpy as np"
   ]
  },
  {
   "cell_type": "code",
   "execution_count": 2,
   "id": "b947fbe8-85a3-453c-a08d-9fcf987afa3a",
   "metadata": {},
   "outputs": [],
   "source": [
    "df = pd.read_csv(\"balanced-all.csv\")"
   ]
  },
  {
   "cell_type": "code",
   "execution_count": 3,
   "id": "2805b0df-0aab-4e70-a914-dbf5b325f3e7",
   "metadata": {},
   "outputs": [
    {
     "data": {
      "text/html": [
       "<div>\n",
       "<style scoped>\n",
       "    .dataframe tbody tr th:only-of-type {\n",
       "        vertical-align: middle;\n",
       "    }\n",
       "\n",
       "    .dataframe tbody tr th {\n",
       "        vertical-align: top;\n",
       "    }\n",
       "\n",
       "    .dataframe thead th {\n",
       "        text-align: right;\n",
       "    }\n",
       "</style>\n",
       "<table border=\"1\" class=\"dataframe\">\n",
       "  <thead>\n",
       "    <tr style=\"text-align: right;\">\n",
       "      <th></th>\n",
       "      <th>filename</th>\n",
       "      <th>gender</th>\n",
       "    </tr>\n",
       "  </thead>\n",
       "  <tbody>\n",
       "    <tr>\n",
       "      <th>0</th>\n",
       "      <td>data/cv-other-train/sample-069205.npy</td>\n",
       "      <td>female</td>\n",
       "    </tr>\n",
       "    <tr>\n",
       "      <th>1</th>\n",
       "      <td>data/cv-valid-train/sample-063134.npy</td>\n",
       "      <td>female</td>\n",
       "    </tr>\n",
       "    <tr>\n",
       "      <th>2</th>\n",
       "      <td>data/cv-other-train/sample-080873.npy</td>\n",
       "      <td>female</td>\n",
       "    </tr>\n",
       "    <tr>\n",
       "      <th>3</th>\n",
       "      <td>data/cv-other-train/sample-105595.npy</td>\n",
       "      <td>female</td>\n",
       "    </tr>\n",
       "    <tr>\n",
       "      <th>4</th>\n",
       "      <td>data/cv-valid-train/sample-144613.npy</td>\n",
       "      <td>female</td>\n",
       "    </tr>\n",
       "  </tbody>\n",
       "</table>\n",
       "</div>"
      ],
      "text/plain": [
       "                                filename  gender\n",
       "0  data/cv-other-train/sample-069205.npy  female\n",
       "1  data/cv-valid-train/sample-063134.npy  female\n",
       "2  data/cv-other-train/sample-080873.npy  female\n",
       "3  data/cv-other-train/sample-105595.npy  female\n",
       "4  data/cv-valid-train/sample-144613.npy  female"
      ]
     },
     "execution_count": 3,
     "metadata": {},
     "output_type": "execute_result"
    }
   ],
   "source": [
    "df.head()"
   ]
  },
  {
   "cell_type": "code",
   "execution_count": 4,
   "id": "f289ec94-9963-4f31-988a-fb815f7f7d2c",
   "metadata": {},
   "outputs": [
    {
     "data": {
      "text/html": [
       "<div>\n",
       "<style scoped>\n",
       "    .dataframe tbody tr th:only-of-type {\n",
       "        vertical-align: middle;\n",
       "    }\n",
       "\n",
       "    .dataframe tbody tr th {\n",
       "        vertical-align: top;\n",
       "    }\n",
       "\n",
       "    .dataframe thead th {\n",
       "        text-align: right;\n",
       "    }\n",
       "</style>\n",
       "<table border=\"1\" class=\"dataframe\">\n",
       "  <thead>\n",
       "    <tr style=\"text-align: right;\">\n",
       "      <th></th>\n",
       "      <th>filename</th>\n",
       "      <th>gender</th>\n",
       "    </tr>\n",
       "  </thead>\n",
       "  <tbody>\n",
       "    <tr>\n",
       "      <th>66933</th>\n",
       "      <td>data/cv-valid-train/sample-171098.npy</td>\n",
       "      <td>male</td>\n",
       "    </tr>\n",
       "    <tr>\n",
       "      <th>66934</th>\n",
       "      <td>data/cv-other-train/sample-022864.npy</td>\n",
       "      <td>male</td>\n",
       "    </tr>\n",
       "    <tr>\n",
       "      <th>66935</th>\n",
       "      <td>data/cv-valid-train/sample-080933.npy</td>\n",
       "      <td>male</td>\n",
       "    </tr>\n",
       "    <tr>\n",
       "      <th>66936</th>\n",
       "      <td>data/cv-other-train/sample-012026.npy</td>\n",
       "      <td>male</td>\n",
       "    </tr>\n",
       "    <tr>\n",
       "      <th>66937</th>\n",
       "      <td>data/cv-other-train/sample-013841.npy</td>\n",
       "      <td>male</td>\n",
       "    </tr>\n",
       "  </tbody>\n",
       "</table>\n",
       "</div>"
      ],
      "text/plain": [
       "                                    filename gender\n",
       "66933  data/cv-valid-train/sample-171098.npy   male\n",
       "66934  data/cv-other-train/sample-022864.npy   male\n",
       "66935  data/cv-valid-train/sample-080933.npy   male\n",
       "66936  data/cv-other-train/sample-012026.npy   male\n",
       "66937  data/cv-other-train/sample-013841.npy   male"
      ]
     },
     "execution_count": 4,
     "metadata": {},
     "output_type": "execute_result"
    }
   ],
   "source": [
    "df.tail()"
   ]
  },
  {
   "cell_type": "code",
   "execution_count": 5,
   "id": "d31656e5-cfeb-429d-9793-bdb603b322b6",
   "metadata": {},
   "outputs": [
    {
     "name": "stdout",
     "output_type": "stream",
     "text": [
      "Total samples: 66938\n",
      "Total male samples: 33469\n",
      "Total female samples: 33469\n"
     ]
    }
   ],
   "source": [
    "n_samples = len(df)\n",
    "n_male_samples = len(df[df['gender'] == 'male'])\n",
    "n_female_samples = len(df[df['gender'] == 'female'])\n",
    "print(\"Total samples:\", n_samples)\n",
    "print(\"Total male samples:\", n_male_samples)\n",
    "print(\"Total female samples:\", n_female_samples)"
   ]
  },
  {
   "cell_type": "code",
   "execution_count": null,
   "id": "876ebb6c-26a7-4bbe-8e29-7e1d01ff1856",
   "metadata": {},
   "outputs": [],
   "source": []
  },
  {
   "cell_type": "code",
   "execution_count": null,
   "id": "2212b845-7295-4ba3-bad8-4206fc0edf81",
   "metadata": {},
   "outputs": [],
   "source": []
  },
  {
   "cell_type": "code",
   "execution_count": null,
   "id": "2656f73e-893a-4c32-b1ab-75b3855e3376",
   "metadata": {},
   "outputs": [],
   "source": []
  },
  {
   "cell_type": "code",
   "execution_count": null,
   "id": "6869b4a0-598e-486b-960e-a4e1ded957df",
   "metadata": {},
   "outputs": [],
   "source": []
  },
  {
   "cell_type": "raw",
   "id": "bff7b8cc-17e7-4aa3-8550-2d1a2e5219ef",
   "metadata": {},
   "source": [
    "x=[]\n",
    "y=[]\n",
    "c=0\n",
    "for file,gender in zip(df[\"filename\"],df[\"gender\"]):\n",
    "    x.append(np.load(file))\n",
    "    if gender==\"female\":\n",
    "        y.append([0])\n",
    "    else:\n",
    "        y.append([1])\n",
    "    if c%100==0:\n",
    "        print(c)\n",
    "    c=c+1\n",
    "\n",
    "np.save(\"results/features\", x)\n",
    "np.save(\"results/labels\", y)"
   ]
  },
  {
   "cell_type": "code",
   "execution_count": 9,
   "id": "842bad4b-9b57-43c4-9674-c19dff0babce",
   "metadata": {},
   "outputs": [],
   "source": []
  },
  {
   "cell_type": "code",
   "execution_count": 53,
   "id": "6c27f08a-806b-45d7-bd04-09f7c7d498c1",
   "metadata": {},
   "outputs": [],
   "source": [
    "x = np.load(\"results/features.npy\")\n",
    "y = np.load(\"results/labels.npy\")"
   ]
  },
  {
   "cell_type": "code",
   "execution_count": 78,
   "id": "cf80cb61-7a5c-44b7-9f25-a63b9ce7be2e",
   "metadata": {},
   "outputs": [
    {
     "data": {
      "text/plain": [
       "66938"
      ]
     },
     "execution_count": 78,
     "metadata": {},
     "output_type": "execute_result"
    }
   ],
   "source": [
    "len(x)"
   ]
  },
  {
   "cell_type": "code",
   "execution_count": 79,
   "id": "ac8b5b5d-131a-4874-8dec-be1f4307e370",
   "metadata": {},
   "outputs": [
    {
     "data": {
      "text/plain": [
       "66938"
      ]
     },
     "execution_count": 79,
     "metadata": {},
     "output_type": "execute_result"
    }
   ],
   "source": [
    "len(y)"
   ]
  },
  {
   "cell_type": "code",
   "execution_count": 80,
   "id": "0682474e-6ebf-436d-9f3b-5feb06cd3221",
   "metadata": {},
   "outputs": [],
   "source": [
    "x=np.array(x)"
   ]
  },
  {
   "cell_type": "code",
   "execution_count": 81,
   "id": "8afeaec8-98fc-4a44-8c57-d691394cc5dc",
   "metadata": {},
   "outputs": [
    {
     "data": {
      "text/plain": [
       "array([[8.33691835e-01, 1.84069288e+00, 7.21150815e-01, ...,\n",
       "        2.22568936e-03, 3.72419163e-04, 4.14350980e-05],\n",
       "       [3.44792323e-04, 3.78249679e-04, 7.02428690e-04, ...,\n",
       "        5.25400345e-08, 2.83253740e-08, 2.14376583e-09],\n",
       "       [1.90136401e-04, 2.43997492e-04, 4.60427953e-04, ...,\n",
       "        1.14822782e-04, 2.32082821e-05, 1.38619748e-06],\n",
       "       ...,\n",
       "       [1.16413343e-03, 9.43325169e-04, 1.52071775e-03, ...,\n",
       "        3.66348862e-09, 1.36717937e-09, 1.47780455e-10],\n",
       "       [6.36986643e-02, 1.34973586e-01, 2.42811322e+00, ...,\n",
       "        3.79042875e-04, 8.72957244e-05, 6.89193166e-06],\n",
       "       [1.45035911e+00, 1.17254317e+00, 2.72492021e-01, ...,\n",
       "        2.80375849e-03, 1.14007434e-03, 1.97923204e-04]])"
      ]
     },
     "execution_count": 81,
     "metadata": {},
     "output_type": "execute_result"
    }
   ],
   "source": [
    "x"
   ]
  },
  {
   "cell_type": "code",
   "execution_count": 82,
   "id": "cb85f444-293a-4b8d-92fd-c7ca2920c384",
   "metadata": {},
   "outputs": [],
   "source": [
    "y=np.array(y)"
   ]
  },
  {
   "cell_type": "code",
   "execution_count": 83,
   "id": "6661b4ed-de66-4d97-973d-7b56d54ea7f9",
   "metadata": {},
   "outputs": [
    {
     "data": {
      "text/plain": [
       "array([[0],\n",
       "       [0],\n",
       "       [0],\n",
       "       ...,\n",
       "       [1],\n",
       "       [1],\n",
       "       [1]])"
      ]
     },
     "execution_count": 83,
     "metadata": {},
     "output_type": "execute_result"
    }
   ],
   "source": [
    "y"
   ]
  },
  {
   "cell_type": "code",
   "execution_count": null,
   "id": "8eb15b55-d671-45b8-9df1-a5354d704eae",
   "metadata": {},
   "outputs": [],
   "source": []
  },
  {
   "cell_type": "code",
   "execution_count": null,
   "id": "0d139ddb-2949-4234-94d1-3dc5298a115f",
   "metadata": {},
   "outputs": [],
   "source": []
  },
  {
   "cell_type": "code",
   "execution_count": null,
   "id": "9e9a35c8-b42c-4b00-99cc-5bb2c7b5864f",
   "metadata": {},
   "outputs": [],
   "source": []
  },
  {
   "cell_type": "code",
   "execution_count": 84,
   "id": "8b04fd6b-7760-4914-bcef-2fa7749a98cb",
   "metadata": {},
   "outputs": [],
   "source": [
    "from sklearn.model_selection import train_test_split"
   ]
  },
  {
   "cell_type": "code",
   "execution_count": 85,
   "id": "d20d18d9-3362-4370-9ff4-4b9a1f574e65",
   "metadata": {},
   "outputs": [],
   "source": [
    "x_train,x_test,y_train,y_test=train_test_split(x,y,test_size=0.1,random_state=44)"
   ]
  },
  {
   "cell_type": "code",
   "execution_count": 86,
   "id": "1e561092-5926-406a-90cc-2f40a7a20747",
   "metadata": {},
   "outputs": [
    {
     "data": {
      "text/plain": [
       "60244"
      ]
     },
     "execution_count": 86,
     "metadata": {},
     "output_type": "execute_result"
    }
   ],
   "source": [
    "len(x_train)"
   ]
  },
  {
   "cell_type": "code",
   "execution_count": 87,
   "id": "90de79ce-b4f7-4989-8b1b-f93d84f9202e",
   "metadata": {},
   "outputs": [
    {
     "data": {
      "text/plain": [
       "6694"
      ]
     },
     "execution_count": 87,
     "metadata": {},
     "output_type": "execute_result"
    }
   ],
   "source": [
    "len(x_test)"
   ]
  },
  {
   "cell_type": "code",
   "execution_count": 88,
   "id": "4dfdd947-e581-4ff9-98b7-b4f885cd518f",
   "metadata": {},
   "outputs": [],
   "source": [
    "x_train,x_val,y_train,y_val=train_test_split(x_train,y_train,test_size=0.1,random_state=45)"
   ]
  },
  {
   "cell_type": "code",
   "execution_count": 89,
   "id": "93a4e2aa-6839-41ee-ad39-9ca1e88fe6d1",
   "metadata": {},
   "outputs": [
    {
     "data": {
      "text/plain": [
       "54219"
      ]
     },
     "execution_count": 89,
     "metadata": {},
     "output_type": "execute_result"
    }
   ],
   "source": [
    "len(x_train)"
   ]
  },
  {
   "cell_type": "code",
   "execution_count": 90,
   "id": "bb98d6da-eaa4-4a39-91c6-bbe05281d97e",
   "metadata": {},
   "outputs": [],
   "source": [
    "import tensorflow as tf "
   ]
  },
  {
   "cell_type": "code",
   "execution_count": 91,
   "id": "ea406033-22ba-441a-92c6-d0d8e8763636",
   "metadata": {},
   "outputs": [],
   "source": [
    "model=tf.keras.models.Sequential([\n",
    "    tf.keras.layers.Dense(256,input_shape=(128,)),\n",
    "    tf.keras.layers.Dropout(0.3),\n",
    "    tf.keras.layers.Dense(256,activation=\"relu\"),\n",
    "    tf.keras.layers.Dropout(0.3),\n",
    "    tf.keras.layers.Dense(128,activation=\"relu\"),\n",
    "    tf.keras.layers.Dropout(0.3),\n",
    "    tf.keras.layers.Dense(128,activation=\"relu\"),\n",
    "    tf.keras.layers.Dropout(0.3),\n",
    "    tf.keras.layers.Dense(64,activation=\"relu\"),\n",
    "    tf.keras.layers.Dropout(0.3),\n",
    "    tf.keras.layers.Dense(1,activation=\"sigmoid\")\n",
    "])\n",
    "model.compile(loss=\"binary_crossentropy\", metrics=[\"accuracy\"], optimizer=\"adam\")"
   ]
  },
  {
   "cell_type": "code",
   "execution_count": 92,
   "id": "057cb8c2-bac9-44a2-b045-5aafa588044e",
   "metadata": {},
   "outputs": [
    {
     "name": "stdout",
     "output_type": "stream",
     "text": [
      "Model: \"sequential_4\"\n",
      "_________________________________________________________________\n",
      " Layer (type)                Output Shape              Param #   \n",
      "=================================================================\n",
      " dense_24 (Dense)            (None, 256)               33024     \n",
      "                                                                 \n",
      " dropout_20 (Dropout)        (None, 256)               0         \n",
      "                                                                 \n",
      " dense_25 (Dense)            (None, 256)               65792     \n",
      "                                                                 \n",
      " dropout_21 (Dropout)        (None, 256)               0         \n",
      "                                                                 \n",
      " dense_26 (Dense)            (None, 128)               32896     \n",
      "                                                                 \n",
      " dropout_22 (Dropout)        (None, 128)               0         \n",
      "                                                                 \n",
      " dense_27 (Dense)            (None, 128)               16512     \n",
      "                                                                 \n",
      " dropout_23 (Dropout)        (None, 128)               0         \n",
      "                                                                 \n",
      " dense_28 (Dense)            (None, 64)                8256      \n",
      "                                                                 \n",
      " dropout_24 (Dropout)        (None, 64)                0         \n",
      "                                                                 \n",
      " dense_29 (Dense)            (None, 1)                 65        \n",
      "                                                                 \n",
      "=================================================================\n",
      "Total params: 156,545\n",
      "Trainable params: 156,545\n",
      "Non-trainable params: 0\n",
      "_________________________________________________________________\n"
     ]
    }
   ],
   "source": [
    "model.summary()"
   ]
  },
  {
   "cell_type": "code",
   "execution_count": 95,
   "id": "a761cb63-5714-4cc7-9f93-1ce59c7b85c6",
   "metadata": {},
   "outputs": [],
   "source": [
    "from tensorflow.keras.callbacks import ModelCheckpoint, TensorBoard, EarlyStopping"
   ]
  },
  {
   "cell_type": "code",
   "execution_count": 96,
   "id": "2d54a81e-00a0-4db9-941e-abaf505b0ffb",
   "metadata": {},
   "outputs": [],
   "source": [
    "tensorboard = TensorBoard(log_dir=\"logs\")\n",
    "early_stopping = EarlyStopping(mode=\"min\", patience=5, restore_best_weights=True)"
   ]
  },
  {
   "cell_type": "code",
   "execution_count": 98,
   "id": "8e204f77-e44d-4f0c-90ad-a3e621dd5f40",
   "metadata": {},
   "outputs": [
    {
     "name": "stdout",
     "output_type": "stream",
     "text": [
      "Epoch 1/50\n",
      "424/424 [==============================] - 6s 15ms/step - loss: 0.3542 - accuracy: 0.8629 - val_loss: 0.2918 - val_accuracy: 0.8853\n",
      "Epoch 2/50\n",
      "424/424 [==============================] - 6s 14ms/step - loss: 0.3346 - accuracy: 0.8696 - val_loss: 0.3087 - val_accuracy: 0.8866\n",
      "Epoch 3/50\n",
      "424/424 [==============================] - 6s 14ms/step - loss: 0.3304 - accuracy: 0.8722 - val_loss: 0.2709 - val_accuracy: 0.8964\n",
      "Epoch 4/50\n",
      "424/424 [==============================] - 6s 14ms/step - loss: 0.3218 - accuracy: 0.8762 - val_loss: 0.2826 - val_accuracy: 0.8890\n",
      "Epoch 5/50\n",
      "424/424 [==============================] - 6s 15ms/step - loss: 0.3123 - accuracy: 0.8801 - val_loss: 0.2749 - val_accuracy: 0.8929\n",
      "Epoch 6/50\n",
      "424/424 [==============================] - 6s 15ms/step - loss: 0.3072 - accuracy: 0.8821 - val_loss: 0.2639 - val_accuracy: 0.9004\n",
      "Epoch 7/50\n",
      "424/424 [==============================] - 6s 14ms/step - loss: 0.3009 - accuracy: 0.8853 - val_loss: 0.2697 - val_accuracy: 0.9007\n",
      "Epoch 8/50\n",
      "424/424 [==============================] - 6s 15ms/step - loss: 0.2912 - accuracy: 0.8882 - val_loss: 0.2517 - val_accuracy: 0.9074\n",
      "Epoch 9/50\n",
      "424/424 [==============================] - 6s 15ms/step - loss: 0.2943 - accuracy: 0.8884 - val_loss: 0.2688 - val_accuracy: 0.8959\n",
      "Epoch 10/50\n",
      "424/424 [==============================] - 6s 15ms/step - loss: 0.2892 - accuracy: 0.8902 - val_loss: 0.2466 - val_accuracy: 0.9084\n",
      "Epoch 11/50\n",
      "424/424 [==============================] - 6s 14ms/step - loss: 0.2854 - accuracy: 0.8930 - val_loss: 0.2423 - val_accuracy: 0.9087\n",
      "Epoch 12/50\n",
      "424/424 [==============================] - 6s 15ms/step - loss: 0.2824 - accuracy: 0.8933 - val_loss: 0.2384 - val_accuracy: 0.9036\n",
      "Epoch 13/50\n",
      "424/424 [==============================] - 6s 14ms/step - loss: 0.2738 - accuracy: 0.8968 - val_loss: 0.2365 - val_accuracy: 0.9076\n",
      "Epoch 14/50\n",
      "424/424 [==============================] - 6s 14ms/step - loss: 0.2743 - accuracy: 0.8965 - val_loss: 0.2360 - val_accuracy: 0.9114\n",
      "Epoch 15/50\n",
      "424/424 [==============================] - 6s 15ms/step - loss: 0.2734 - accuracy: 0.8984 - val_loss: 0.2370 - val_accuracy: 0.9094\n",
      "Epoch 16/50\n",
      "424/424 [==============================] - 6s 15ms/step - loss: 0.2687 - accuracy: 0.8991 - val_loss: 0.2473 - val_accuracy: 0.9032\n",
      "Epoch 17/50\n",
      "424/424 [==============================] - 7s 16ms/step - loss: 0.2668 - accuracy: 0.8996 - val_loss: 0.2325 - val_accuracy: 0.9114\n",
      "Epoch 18/50\n",
      "424/424 [==============================] - 7s 16ms/step - loss: 0.2676 - accuracy: 0.8985 - val_loss: 0.2367 - val_accuracy: 0.9094\n",
      "Epoch 19/50\n",
      "424/424 [==============================] - 6s 15ms/step - loss: 0.2605 - accuracy: 0.9019 - val_loss: 0.2281 - val_accuracy: 0.9066\n",
      "Epoch 20/50\n",
      "424/424 [==============================] - 6s 14ms/step - loss: 0.2610 - accuracy: 0.9019 - val_loss: 0.2275 - val_accuracy: 0.9119\n",
      "Epoch 21/50\n",
      "424/424 [==============================] - 6s 14ms/step - loss: 0.2579 - accuracy: 0.9025 - val_loss: 0.2398 - val_accuracy: 0.9049\n",
      "Epoch 22/50\n",
      "424/424 [==============================] - 6s 15ms/step - loss: 0.2549 - accuracy: 0.9042 - val_loss: 0.2307 - val_accuracy: 0.9104\n",
      "Epoch 23/50\n",
      "424/424 [==============================] - 6s 14ms/step - loss: 0.2543 - accuracy: 0.9048 - val_loss: 0.2159 - val_accuracy: 0.9165\n",
      "Epoch 24/50\n",
      "424/424 [==============================] - 6s 15ms/step - loss: 0.2545 - accuracy: 0.9042 - val_loss: 0.2280 - val_accuracy: 0.9135\n",
      "Epoch 25/50\n",
      "424/424 [==============================] - 6s 15ms/step - loss: 0.2506 - accuracy: 0.9075 - val_loss: 0.2179 - val_accuracy: 0.9165\n",
      "Epoch 26/50\n",
      "424/424 [==============================] - 6s 15ms/step - loss: 0.2541 - accuracy: 0.9058 - val_loss: 0.2323 - val_accuracy: 0.9135\n",
      "Epoch 27/50\n",
      "424/424 [==============================] - 6s 15ms/step - loss: 0.2515 - accuracy: 0.9042 - val_loss: 0.2177 - val_accuracy: 0.9129\n",
      "Epoch 28/50\n",
      "424/424 [==============================] - 6s 14ms/step - loss: 0.2513 - accuracy: 0.9070 - val_loss: 0.2246 - val_accuracy: 0.9139\n"
     ]
    },
    {
     "data": {
      "text/plain": [
       "<keras.callbacks.History at 0x1d6349fba30>"
      ]
     },
     "execution_count": 98,
     "metadata": {},
     "output_type": "execute_result"
    }
   ],
   "source": [
    "model.fit(x_train,y_train,epochs=50,batch_size=128,validation_data=(x_val,y_val),callbacks=[tensorboard,early_stopping])"
   ]
  },
  {
   "cell_type": "code",
   "execution_count": 99,
   "id": "eb4e1336-3045-49d1-addf-4f9e6a0766f0",
   "metadata": {},
   "outputs": [],
   "source": [
    "# save the model to a file\n",
    "model.save(\"results/model.h5\")"
   ]
  },
  {
   "cell_type": "code",
   "execution_count": 100,
   "id": "ed84372e-0aea-4070-977b-1174270247e2",
   "metadata": {},
   "outputs": [
    {
     "name": "stdout",
     "output_type": "stream",
     "text": [
      "Loss: 0.2171\n",
      "Accuracy: 91.74%\n"
     ]
    }
   ],
   "source": [
    "loss, accuracy = model.evaluate(x_test, y_test, verbose=0)\n",
    "print(f\"Loss: {loss:.4f}\")\n",
    "print(f\"Accuracy: {accuracy*100:.2f}%\")"
   ]
  },
  {
   "cell_type": "code",
   "execution_count": null,
   "id": "bfce67e7-96fa-46d0-a66e-b7b93d016c64",
   "metadata": {},
   "outputs": [],
   "source": []
  }
 ],
 "metadata": {
  "kernelspec": {
   "display_name": "Python 3 (ipykernel)",
   "language": "python",
   "name": "python3"
  },
  "language_info": {
   "codemirror_mode": {
    "name": "ipython",
    "version": 3
   },
   "file_extension": ".py",
   "mimetype": "text/x-python",
   "name": "python",
   "nbconvert_exporter": "python",
   "pygments_lexer": "ipython3",
   "version": "3.9.17"
  }
 },
 "nbformat": 4,
 "nbformat_minor": 5
}
